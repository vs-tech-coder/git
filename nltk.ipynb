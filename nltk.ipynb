{
  "nbformat": 4,
  "nbformat_minor": 0,
  "metadata": {
    "colab": {
      "provenance": [],
      "authorship_tag": "ABX9TyM8tzv2avnLRsWGSI80TSJm",
      "include_colab_link": true
    },
    "kernelspec": {
      "name": "python3",
      "display_name": "Python 3"
    },
    "language_info": {
      "name": "python"
    }
  },
  "cells": [
    {
      "cell_type": "markdown",
      "metadata": {
        "id": "view-in-github",
        "colab_type": "text"
      },
      "source": [
        "<a href=\"https://colab.research.google.com/github/vs-tech-coder/git/blob/main/nltk.ipynb\" target=\"_parent\"><img src=\"https://colab.research.google.com/assets/colab-badge.svg\" alt=\"Open In Colab\"/></a>"
      ]
    },
    {
      "cell_type": "code",
      "execution_count": null,
      "metadata": {
        "id": "z8z5q3YLsgrC"
      },
      "outputs": [],
      "source": [
        "install python\n",
        "on cmd python-v\n",
        "pip -v\n",
        "pip install nltk\n",
        "install extation in vs\n",
        "create .py file\n",
        "for run python filename.py\n",
        "\n",
        "\n",
        "///////////////////////////////////////////////////////////\n",
        "\n",
        "print (\"Implemention of Tokenization\")\n",
        "import nltk\n",
        "nltk.download('punkt')\n",
        "\n",
        "text =\"\"\"Welcome you to programming knowldge. Lets start with our first tutorial in NLTK. We shall learn basic Nltk here\"\"\"\n",
        "\n",
        "#from nltk.tokenize import word_tokenize\n",
        "#print(word_tokenize(text))\n",
        " \n",
        "from nltk.tokenize import sent_tokenize\n",
        "print(sent_tokenize(text))\n",
        "\n",
        "/////////////////////////////////////////////\n",
        "\n",
        "print(\"Stop Word finding\")\n",
        "\n",
        "import nltk\n",
        "nltk.download('stopwords')\n",
        "text=\"\"\"Welcome you to programming knowldge. Lets start with our first tutorial in NLTK. We shall learn basic Nltk here\"\"\"\n",
        "\n",
        "from nltk.corpus import stopwords\n",
        "\n",
        "stop_words = stopwords.words('english')\n",
        "\n",
        "from nltk.tokenize import word_tokenize,sent_tokenize\n",
        "\n",
        "token = word_tokenize(text)\n",
        "\n",
        "cleaned_token =[]\n",
        "for word in token:\n",
        "    if word not in stop_words:\n",
        "        cleaned_token.append(word)\n",
        "\n",
        "print(\"This is unclean\",token)\n",
        "print(\"this is clean\",cleaned_token)"
      ]
    }
  ]
}