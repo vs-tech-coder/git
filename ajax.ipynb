{
  "nbformat": 4,
  "nbformat_minor": 0,
  "metadata": {
    "colab": {
      "provenance": [],
      "include_colab_link": true
    },
    "kernelspec": {
      "name": "python3",
      "display_name": "Python 3"
    },
    "language_info": {
      "name": "python"
    }
  },
  "cells": [
    {
      "cell_type": "markdown",
      "metadata": {
        "id": "view-in-github",
        "colab_type": "text"
      },
      "source": [
        "<a href=\"https://colab.research.google.com/github/vs-tech-coder/git/blob/main/ajax.ipynb\" target=\"_parent\"><img src=\"https://colab.research.google.com/assets/colab-badge.svg\" alt=\"Open In Colab\"/></a>"
      ]
    },
    {
      "cell_type": "code",
      "execution_count": null,
      "metadata": {
        "id": "00bCDptVzwNe"
      },
      "outputs": [],
      "source": [
        "#ajax\n",
        "#make 2 files in vs code in one folder at desktop.\n",
        "\n",
        "#about.html\n",
        "\n",
        "#-----<h1>We are at About Us Page</h1>\n",
        "      #<p> Welcome in Ajax tutorial.Here we will lear all about Ajax and its tutorials in details.So stay tuned.\n",
        "        #Thank you all of you for joining this tutorials.</p>\n",
        "\n",
        "#index.html\n",
        "\n",
        "      #<!DOCTYPE html>\n",
        "#<html lang=\"en\">\n",
        "#<head>\n",
        "    #<meta charset=\"UTF-8\">\n",
        "    #<meta http-equiv=\"X-UA-Compatible\" content=\"IE=edge\">\n",
        "    #<meta name=\"viewport\" content=\"width=device-width, initial-scale=1.0\">\n",
        "    #<title>Home</title>\n",
        "#<script>\n",
        "    #function loadAbout(){\n",
        "       #// alert(\"loading\");\n",
        "        #var request = new XMLHttpRequest()\n",
        "        #request.open(\"GET\",\"about.html\");\n",
        "        #request.onreadystatechange=function(){\n",
        "            #if(this.readyState==4 && this.status==200){\n",
        "                #console.log(this.responseText);\n",
        "                #document.getElementById(\"container\").innerHTML=this.responseText\n",
        "\n",
        "            #}\n",
        "        #};\n",
        "        #request.send();\n",
        "    #}\n",
        "#</script>\n",
        "\n",
        "\n",
        "#</head>\n",
        "#<body>\n",
        "    #<h1>Welcome in AJAX World</h1>\n",
        "\n",
        "    #<h1><a href=\"about.html\">About</a></h1>\n",
        "    #<button onclick=\"loadAbout()\">Load About</button>\n",
        "\n",
        "    #<div id=\"container\"></div>\n",
        "\n",
        "#</body>\n",
        "#</html>"
      ]
    }
  ]
}