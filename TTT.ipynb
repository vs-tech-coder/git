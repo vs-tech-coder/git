{
  "nbformat": 4,
  "nbformat_minor": 0,
  "metadata": {
    "colab": {
      "provenance": [],
      "authorship_tag": "ABX9TyOUg1YpEBICi8BNnt4mhmJa",
      "include_colab_link": true
    },
    "kernelspec": {
      "name": "python3",
      "display_name": "Python 3"
    },
    "language_info": {
      "name": "python"
    }
  },
  "cells": [
    {
      "cell_type": "markdown",
      "metadata": {
        "id": "view-in-github",
        "colab_type": "text"
      },
      "source": [
        "<a href=\"https://colab.research.google.com/github/vs-tech-coder/git/blob/main/TTT.ipynb\" target=\"_parent\"><img src=\"https://colab.research.google.com/assets/colab-badge.svg\" alt=\"Open In Colab\"/></a>"
      ]
    },
    {
      "cell_type": "code",
      "execution_count": null,
      "metadata": {
        "id": "1tH0uqBapLMK"
      },
      "outputs": [],
      "source": [
        "board = [[' ']*3 for _ in range(3)]\n",
        "player = 'X'\n",
        "\n",
        "def print_board():\n",
        "    for row in board:\n",
        "        print('|'.join(row))\n",
        "        print('-' * 5)\n",
        "\n",
        "while True:\n",
        "    print_board()\n",
        "    row, col = map(int, input(\"Enter row and column (0 2): \").split())\n",
        "    if board[row][col] == ' ':\n",
        "        board[row][col] = player\n",
        "        player = 'O' if player == 'X' else 'X'\n",
        "    else:\n",
        "        print(\"Invalid move!\")\n"
      ]
    }
  ]
}