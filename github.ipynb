{
  "nbformat": 4,
  "nbformat_minor": 0,
  "metadata": {
    "colab": {
      "provenance": [],
      "authorship_tag": "ABX9TyPoCtgmuLcmtY8WR7rEJ3eX",
      "include_colab_link": true
    },
    "kernelspec": {
      "name": "python3",
      "display_name": "Python 3"
    },
    "language_info": {
      "name": "python"
    }
  },
  "cells": [
    {
      "cell_type": "markdown",
      "metadata": {
        "id": "view-in-github",
        "colab_type": "text"
      },
      "source": [
        "<a href=\"https://colab.research.google.com/github/vs-tech-coder/git/blob/main/github.ipynb\" target=\"_parent\"><img src=\"https://colab.research.google.com/assets/colab-badge.svg\" alt=\"Open In Colab\"/></a>"
      ]
    },
    {
      "cell_type": "code",
      "execution_count": null,
      "metadata": {
        "id": "3gK9IXE-rXzj"
      },
      "outputs": [],
      "source": [
        "*s/w requirements\n",
        "-vs\n",
        "-Git\n",
        "-Github\n",
        "* Install git s/w\n",
        "*create one folder on desktop\n",
        "*Then open folder in vs code\n",
        "*Open terminal in vs \n",
        "*Create another folder thrugh terminal\n",
        "(Mkdir Git) \n",
        "\n",
        "*In that terminal write one command\n",
        "  (git -- version) \n",
        "\n",
        "*Create new repositry on github\n",
        "\n",
        "*create new file in the new folder\n",
        "\n",
        "*Initalize repositry by using following command \n",
        "(git init)\n",
        "(Git add space .) \n",
        "(Git status) \n",
        "(Git remote add origin \"copy url\") \n",
        "\n",
        "*If there is a security error \n",
        "(Git config - - globol user. Email \" Email\" Enter) \n",
        "(Git config - - globol user. Name \" Name\" Enter) \n",
        "(Git commit - m \"first commit\")\n",
        "\n",
        "*Then check status by using\n",
        " (git status) \n",
        "(Git push -u origin master)"
      ]
    }
  ]
}