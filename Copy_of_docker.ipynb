{
  "nbformat": 4,
  "nbformat_minor": 0,
  "metadata": {
    "colab": {
      "provenance": [],
      "include_colab_link": true
    },
    "kernelspec": {
      "name": "python3",
      "display_name": "Python 3"
    },
    "language_info": {
      "name": "python"
    }
  },
  "cells": [
    {
      "cell_type": "markdown",
      "metadata": {
        "id": "view-in-github",
        "colab_type": "text"
      },
      "source": [
        "<a href=\"https://colab.research.google.com/github/vs-tech-coder/git/blob/main/Copy_of_docker.ipynb\" target=\"_parent\"><img src=\"https://colab.research.google.com/assets/colab-badge.svg\" alt=\"Open In Colab\"/></a>"
      ]
    },
    {
      "cell_type": "code",
      "execution_count": null,
      "metadata": {
        "id": "RsHBuGd5ocxF"
      },
      "outputs": [],
      "source": [
        "#install docker desktop from net\n",
        "#in vs code in extension download docker\n",
        "#install nodejs\n",
        "#open new terminal in one folder(part b) in vscode\n",
        "#in terminal write docker --version\n",
        "#in folder(part b) from desktop create 2 file one with name Dockerfile and no extension,soon you will see\n",
        "# docker symbol with file name\n",
        "\n",
        "#second file with name wad.js(make both in folder(part b) from desktop)\n",
        "#now\n",
        "# paste this code in dockerfile\n",
        "\n",
        "#FROM node:alpine\n",
        "#COPY . /part b\n",
        "#CMD node /part b/wad.js\n",
        "\n",
        "\n",
        "#in wad.js put below code\n",
        "\n",
        "#console.log(\"name:wad assignment\");\n",
        "#console.log(\"address:dvvp ahmednagar\");\n",
        "#console.log(\"class:TE\");\n",
        "#console.log(\"subject:LPII\");\n",
        "#\n",
        "#now save both files and run below commands in terminal\n",
        "\n",
        "#docker --version\n",
        "#node wad.js  \n",
        "#docker build -t part b .\n",
        "#docker images\n",
        "#\n",
        "#\n",
        "#\n",
        "#\n",
        "#\n",
        "#\n",
        "#\n",
        "#\n",
        "#\n",
        "#\n",
        "#\n",
        "#\n",
        "#"
      ]
    }
  ]
}