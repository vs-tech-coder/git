{
  "nbformat": 4,
  "nbformat_minor": 0,
  "metadata": {
    "colab": {
      "provenance": [],
      "authorship_tag": "ABX9TyN0qhu2ieIEEtPQGOxfYt7S",
      "include_colab_link": true
    },
    "kernelspec": {
      "name": "python3",
      "display_name": "Python 3"
    },
    "language_info": {
      "name": "python"
    }
  },
  "cells": [
    {
      "cell_type": "markdown",
      "metadata": {
        "id": "view-in-github",
        "colab_type": "text"
      },
      "source": [
        "<a href=\"https://colab.research.google.com/github/vs-tech-coder/Login_form/blob/main/Untitled0.ipynb\" target=\"_parent\"><img src=\"https://colab.research.google.com/assets/colab-badge.svg\" alt=\"Open In Colab\"/></a>"
      ]
    },
    {
      "cell_type": "code",
      "execution_count": null,
      "metadata": {
        "id": "zpWxEZIQkbOb"
      },
      "outputs": [],
      "source": [
        "\n",
        "const express=require('express')\n",
        "const app=express();\n",
        "app.use(express.static('public'))\n",
        "app.listen(5000,()=>{\n",
        "    console.log(\"server is started\");\n",
        "})\n",
        "\n",
        "\n",
        "\n",
        "npm init\n",
        "npm i express\n",
        "node index.js\n",
        "localhost:5000"
      ]
    }
  ]
}