{
  "nbformat": 4,
  "nbformat_minor": 0,
  "metadata": {
    "colab": {
      "provenance": [],
      "include_colab_link": true
    },
    "kernelspec": {
      "name": "python3",
      "display_name": "Python 3"
    },
    "language_info": {
      "name": "python"
    }
  },
  "cells": [
    {
      "cell_type": "markdown",
      "metadata": {
        "id": "view-in-github",
        "colab_type": "text"
      },
      "source": [
        "<a href=\"https://colab.research.google.com/github/vs-tech-coder/git/blob/main/angular.ipynb\" target=\"_parent\"><img src=\"https://colab.research.google.com/assets/colab-badge.svg\" alt=\"Open In Colab\"/></a>"
      ]
    },
    {
      "cell_type": "code",
      "execution_count": null,
      "metadata": {
        "id": "DWldIMYi6P0h"
      },
      "outputs": [],
      "source": [
        "#Angular\n",
        "#Required s/w \n",
        "#Angular ClI Node js Vs code\n",
        "#*open folder in vscode\n",
        "#*open terminal then type the following command \n",
        "#(node - - version) \n",
        "#(npm - - version) \n",
        "#Install angular cli -\n",
        "#(npm install -g @angular/cli@latest) ) \n",
        "#(ng --version) \n",
        "#(ng new project_name) \n",
        "#Open \n",
        "#src- app -» app. Component. Html)\n",
        "#<h1>{{ title}}</h1>\n",
        "#<input type=\"text\" #name placeholder=\"Enter your name\" name=\"Name\"> <br>\n",
        "#<input type=\"text\" #address placeholder=\"Enter your address\" address=\"Address\"> <br>\n",
        "#<input type=\"text\" #contact placeholder=\"Enter your Contact number\" contact=\"Mobile\"> <br>\n",
        "#<button (click)=\"getValue(name.value,address.value,contact.value)\">Register</button>\n",
        "#<h1>Your Data here....thank you</h1> <br>\n",
        "\n",
        "#<p> Name: {{displayname}}</p>\n",
        "#<p> Address: {{displayaddress}}</p>\n",
        "#<p> Contact: {{displaycontact}}</p>\n",
        "\n",
        "\n",
        "#Then write code in that file \n",
        "#(Open src _> app. Compnent.ts) & add code in it\n",
        "\n",
        "#@Component({\n",
        " # selector: 'app-root',\n",
        "  #templateUrl: './app.component.html',\n",
        "  #styleUrls: ['./app.component.css']\n",
        "#})\n",
        "#export class AppComponent {\n",
        "  #title = 'Registration';\n",
        "\n",
        "  #displayname='';\n",
        "  #displayaddress='';\n",
        "  #displaycontact='';\n",
        "\n",
        "  #getValue(name:string,address:string,contact:string){\n",
        "    #this.displayname=name;\n",
        "    #this.displayaddress=address;\n",
        "    #this.displaycontact=contact;\n",
        "\n",
        " # }\n",
        "#}\n",
        "\n",
        "\n",
        "#Open terminal\n",
        "#(cd project name folder ) \n",
        "##(ng serve)  enter\n",
        "#Localhost:4200 for if project not open in web"
      ]
    }
  ]
}