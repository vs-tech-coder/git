{
  "nbformat": 4,
  "nbformat_minor": 0,
  "metadata": {
    "colab": {
      "provenance": [],
      "authorship_tag": "ABX9TyNMpsa0xfeC5bEIlebiECi3",
      "include_colab_link": true
    },
    "kernelspec": {
      "name": "python3",
      "display_name": "Python 3"
    },
    "language_info": {
      "name": "python"
    }
  },
  "cells": [
    {
      "cell_type": "markdown",
      "metadata": {
        "id": "view-in-github",
        "colab_type": "text"
      },
      "source": [
        "<a href=\"https://colab.research.google.com/github/vs-tech-coder/git/blob/main/TSP.ipynb\" target=\"_parent\"><img src=\"https://colab.research.google.com/assets/colab-badge.svg\" alt=\"Open In Colab\"/></a>"
      ]
    },
    {
      "cell_type": "code",
      "execution_count": null,
      "metadata": {
        "id": "nWo6SXvMqpvI"
      },
      "outputs": [],
      "source": [
        "from itertools import permutations\n",
        "\n",
        "def tsp(graph, s):\n",
        "    return min(sum(graph[i][j] for i, j in zip(perm, perm[1:] + (s,)))\n",
        "               for perm in permutations(range(len(graph))) if perm[0] == s)\n",
        "\n",
        "if _name_ == \"_main_\":\n",
        "    graph = [[0, 10, 15, 20], [10, 0, 35, 25],\n",
        "            [15, 35, 0, 30], [20, 25, 30, 0]]\n",
        "    s = 0\n",
        "    print(tsp(graph, s))"
      ]
    }
  ]
}